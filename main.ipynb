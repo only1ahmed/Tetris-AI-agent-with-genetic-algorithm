{
 "cells": [
  {
   "cell_type": "code",
   "execution_count": 1,
   "metadata": {},
   "outputs": [
    {
     "name": "stdout",
     "output_type": "stream",
     "text": [
      "pygame 2.5.2 (SDL 2.28.3, Python 3.11.7)\n",
      "Hello from the pygame community. https://www.pygame.org/contribute.html\n"
     ]
    }
   ],
   "source": [
    "import numpy as np\n",
    "import matplotlib.pyplot as plt\n",
    "import model \n",
    "import tetris_base as tb\n"
   ]
  },
  {
   "cell_type": "code",
   "execution_count": 2,
   "metadata": {},
   "outputs": [],
   "source": [
    "NUM_OF_GENERATIONS = 100"
   ]
  },
  {
   "cell_type": "code",
   "execution_count": 3,
   "metadata": {},
   "outputs": [],
   "source": [
    "genetic_algorithm = model.GeneticAlgorithm(NUM_OF_GENERATIONS)"
   ]
  },
  {
   "cell_type": "code",
   "execution_count": 4,
   "metadata": {},
   "outputs": [],
   "source": [
    "genetic_algorithm.init_chromosomes()"
   ]
  },
  {
   "cell_type": "code",
   "execution_count": 5,
   "metadata": {},
   "outputs": [
    {
     "name": "stdout",
     "output_type": "stream",
     "text": [
      "Training Generation:  0\n",
      "Chromosome Score:  10\n",
      "[10, -4, -3, 6]\n",
      "Game Score:  10\n",
      "Chromosome Score:  11\n",
      "[8, 6, -7, -9]\n",
      "Game Score:  11\n",
      "Chromosome Score:  11\n",
      "[9, -8, -1, 0]\n",
      "Game Score:  11\n",
      "Chromosome Score:  10\n",
      "[-4, 9, 4, -4]\n",
      "Game Score:  10\n",
      "Chromosome Score:  10\n",
      "[9, 1, -1, 1]\n",
      "Game Score:  10\n",
      "Chromosome Score:  10\n",
      "[-4, -5, -9, 10]\n",
      "Game Score:  10\n",
      "Chromosome Score:  11\n",
      "[-2, 3, -3, -5]\n",
      "Game Score:  11\n",
      "Chromosome Score:  10\n",
      "[-7, -3, 5, -6]\n",
      "Game Score:  10\n",
      "Chromosome Score:  11\n",
      "[7, -1, 5, 4]\n",
      "Game Score:  11\n"
     ]
    },
    {
     "ename": "SystemExit",
     "evalue": "",
     "output_type": "error",
     "traceback": [
      "An exception has occurred, use %tb to see the full traceback.\n",
      "\u001b[1;31mSystemExit\u001b[0m\n"
     ]
    },
    {
     "name": "stderr",
     "output_type": "stream",
     "text": [
      "C:\\Users\\Omar\\AppData\\Roaming\\Python\\Python311\\site-packages\\IPython\\core\\interactiveshell.py:3558: UserWarning: To exit: use 'exit', 'quit', or Ctrl-D.\n",
      "  warn(\"To exit: use 'exit', 'quit', or Ctrl-D.\", stacklevel=1)\n"
     ]
    }
   ],
   "source": [
    "genetic_algorithm.train()"
   ]
  }
 ],
 "metadata": {
  "kernelspec": {
   "display_name": "Python 3 (ipykernel)",
   "language": "python",
   "name": "python3"
  },
  "language_info": {
   "codemirror_mode": {
    "name": "ipython",
    "version": 3
   },
   "file_extension": ".py",
   "mimetype": "text/x-python",
   "name": "python",
   "nbconvert_exporter": "python",
   "pygments_lexer": "ipython3",
   "version": "3.11.7"
  }
 },
 "nbformat": 4,
 "nbformat_minor": 4
}
